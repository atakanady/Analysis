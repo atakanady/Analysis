{
 "cells": [
  {
   "cell_type": "code",
   "execution_count": 14,
   "id": "cc76e246-0a5c-435d-aeb3-ead10310a94f",
   "metadata": {},
   "outputs": [],
   "source": [
    "import pandas as pd\n"
   ]
  },
  {
   "cell_type": "code",
   "execution_count": 19,
   "id": "0b9104c6-3f76-4438-bf87-35bc540e3a5c",
   "metadata": {
    "tags": []
   },
   "outputs": [
    {
     "data": {
      "text/html": [
       "<div>\n",
       "<style scoped>\n",
       "    .dataframe tbody tr th:only-of-type {\n",
       "        vertical-align: middle;\n",
       "    }\n",
       "\n",
       "    .dataframe tbody tr th {\n",
       "        vertical-align: top;\n",
       "    }\n",
       "\n",
       "    .dataframe thead th {\n",
       "        text-align: right;\n",
       "    }\n",
       "</style>\n",
       "<table border=\"1\" class=\"dataframe\">\n",
       "  <thead>\n",
       "    <tr style=\"text-align: right;\">\n",
       "      <th></th>\n",
       "      <th>age</th>\n",
       "      <th>workclass</th>\n",
       "      <th>fnlwgt</th>\n",
       "      <th>education</th>\n",
       "      <th>education-num</th>\n",
       "      <th>marital-status</th>\n",
       "      <th>occupation</th>\n",
       "      <th>relationship</th>\n",
       "      <th>race</th>\n",
       "      <th>sex</th>\n",
       "      <th>capital-gain</th>\n",
       "      <th>capital-loss</th>\n",
       "      <th>hours-per-week</th>\n",
       "      <th>native-country</th>\n",
       "      <th>salary</th>\n",
       "    </tr>\n",
       "  </thead>\n",
       "  <tbody>\n",
       "    <tr>\n",
       "      <th>0</th>\n",
       "      <td>39</td>\n",
       "      <td>State-gov</td>\n",
       "      <td>77516</td>\n",
       "      <td>Bachelors</td>\n",
       "      <td>13</td>\n",
       "      <td>Never-married</td>\n",
       "      <td>Adm-clerical</td>\n",
       "      <td>Not-in-family</td>\n",
       "      <td>White</td>\n",
       "      <td>Male</td>\n",
       "      <td>2174</td>\n",
       "      <td>0</td>\n",
       "      <td>40</td>\n",
       "      <td>United-States</td>\n",
       "      <td>&lt;=50K</td>\n",
       "    </tr>\n",
       "    <tr>\n",
       "      <th>1</th>\n",
       "      <td>50</td>\n",
       "      <td>Self-emp-not-inc</td>\n",
       "      <td>83311</td>\n",
       "      <td>Bachelors</td>\n",
       "      <td>13</td>\n",
       "      <td>Married-civ-spouse</td>\n",
       "      <td>Exec-managerial</td>\n",
       "      <td>Husband</td>\n",
       "      <td>White</td>\n",
       "      <td>Male</td>\n",
       "      <td>0</td>\n",
       "      <td>0</td>\n",
       "      <td>13</td>\n",
       "      <td>United-States</td>\n",
       "      <td>&lt;=50K</td>\n",
       "    </tr>\n",
       "    <tr>\n",
       "      <th>2</th>\n",
       "      <td>38</td>\n",
       "      <td>Private</td>\n",
       "      <td>215646</td>\n",
       "      <td>HS-grad</td>\n",
       "      <td>9</td>\n",
       "      <td>Divorced</td>\n",
       "      <td>Handlers-cleaners</td>\n",
       "      <td>Not-in-family</td>\n",
       "      <td>White</td>\n",
       "      <td>Male</td>\n",
       "      <td>0</td>\n",
       "      <td>0</td>\n",
       "      <td>40</td>\n",
       "      <td>United-States</td>\n",
       "      <td>&lt;=50K</td>\n",
       "    </tr>\n",
       "    <tr>\n",
       "      <th>3</th>\n",
       "      <td>53</td>\n",
       "      <td>Private</td>\n",
       "      <td>234721</td>\n",
       "      <td>11th</td>\n",
       "      <td>7</td>\n",
       "      <td>Married-civ-spouse</td>\n",
       "      <td>Handlers-cleaners</td>\n",
       "      <td>Husband</td>\n",
       "      <td>Black</td>\n",
       "      <td>Male</td>\n",
       "      <td>0</td>\n",
       "      <td>0</td>\n",
       "      <td>40</td>\n",
       "      <td>United-States</td>\n",
       "      <td>&lt;=50K</td>\n",
       "    </tr>\n",
       "    <tr>\n",
       "      <th>4</th>\n",
       "      <td>28</td>\n",
       "      <td>Private</td>\n",
       "      <td>338409</td>\n",
       "      <td>Bachelors</td>\n",
       "      <td>13</td>\n",
       "      <td>Married-civ-spouse</td>\n",
       "      <td>Prof-specialty</td>\n",
       "      <td>Wife</td>\n",
       "      <td>Black</td>\n",
       "      <td>Female</td>\n",
       "      <td>0</td>\n",
       "      <td>0</td>\n",
       "      <td>40</td>\n",
       "      <td>Cuba</td>\n",
       "      <td>&lt;=50K</td>\n",
       "    </tr>\n",
       "  </tbody>\n",
       "</table>\n",
       "</div>"
      ],
      "text/plain": [
       "   age         workclass  fnlwgt  education  education-num  \\\n",
       "0   39         State-gov   77516  Bachelors             13   \n",
       "1   50  Self-emp-not-inc   83311  Bachelors             13   \n",
       "2   38           Private  215646    HS-grad              9   \n",
       "3   53           Private  234721       11th              7   \n",
       "4   28           Private  338409  Bachelors             13   \n",
       "\n",
       "       marital-status         occupation   relationship   race     sex  \\\n",
       "0       Never-married       Adm-clerical  Not-in-family  White    Male   \n",
       "1  Married-civ-spouse    Exec-managerial        Husband  White    Male   \n",
       "2            Divorced  Handlers-cleaners  Not-in-family  White    Male   \n",
       "3  Married-civ-spouse  Handlers-cleaners        Husband  Black    Male   \n",
       "4  Married-civ-spouse     Prof-specialty           Wife  Black  Female   \n",
       "\n",
       "   capital-gain  capital-loss  hours-per-week native-country salary  \n",
       "0          2174             0              40  United-States  <=50K  \n",
       "1             0             0              13  United-States  <=50K  \n",
       "2             0             0              40  United-States  <=50K  \n",
       "3             0             0              40  United-States  <=50K  \n",
       "4             0             0              40           Cuba  <=50K  "
      ]
     },
     "execution_count": 19,
     "metadata": {},
     "output_type": "execute_result"
    }
   ],
   "source": [
    "df = pd.read_csv('adult.data.csv')\n",
    "df.head()"
   ]
  },
  {
   "cell_type": "code",
   "execution_count": null,
   "id": "a0e3cf74-3671-4ffc-95e9-6427387b30a2",
   "metadata": {},
   "outputs": [],
   "source": [
    "#Case 1\n",
    "#Bu veri setinde her ırktan kaç kişi temsil ediliyor? Bu, dizin etiketleri olarak ırk adlarına sahip bir Panda serisi olmalıdır."
   ]
  },
  {
   "cell_type": "code",
   "execution_count": 29,
   "id": "ce1ee94c-8b37-4b38-b201-f9fd526ccebd",
   "metadata": {},
   "outputs": [
    {
     "data": {
      "text/plain": [
       "White                 27816\n",
       "Black                  3124\n",
       "Asian-Pac-Islander     1039\n",
       "Amer-Indian-Eskimo      311\n",
       "Other                   271\n",
       "Name: race, dtype: int64"
      ]
     },
     "execution_count": 29,
     "metadata": {},
     "output_type": "execute_result"
    }
   ],
   "source": [
    "df['race'].value_counts()"
   ]
  },
  {
   "cell_type": "code",
   "execution_count": 31,
   "id": "2cdeae7c-8974-49ad-949b-3befd91962c5",
   "metadata": {},
   "outputs": [],
   "source": [
    "race_series = df['race'].value_counts()"
   ]
  },
  {
   "cell_type": "code",
   "execution_count": 33,
   "id": "d097cbe6-4425-4d9a-9a68-55ae998e454f",
   "metadata": {},
   "outputs": [
    {
     "data": {
      "text/plain": [
       "White                 27816\n",
       "Black                  3124\n",
       "Asian-Pac-Islander     1039\n",
       "Amer-Indian-Eskimo      311\n",
       "Other                   271\n",
       "Name: race, dtype: int64"
      ]
     },
     "execution_count": 33,
     "metadata": {},
     "output_type": "execute_result"
    }
   ],
   "source": [
    "race_series"
   ]
  },
  {
   "cell_type": "code",
   "execution_count": 35,
   "id": "490fcb02-e4fe-401c-a86a-92c9206be480",
   "metadata": {},
   "outputs": [],
   "source": [
    "#Case 2\n",
    "#Erkeklerin yaş ortalaması nedir?"
   ]
  },
  {
   "cell_type": "code",
   "execution_count": 45,
   "id": "d05279b2-6da3-48f0-a6fb-71cb0590fd6c",
   "metadata": {},
   "outputs": [
    {
     "name": "stderr",
     "output_type": "stream",
     "text": [
      "C:\\Users\\Administrator.KKONTROL03\\AppData\\Local\\Temp\\ipykernel_5100\\765303443.py:2: FutureWarning: Dropping of nuisance columns in DataFrame reductions (with 'numeric_only=None') is deprecated; in a future version this will raise TypeError.  Select only valid columns before calling the reduction.\n",
      "  male_avg = df.loc[(df['age']) & (df['sex']== 'Male'), ['age','sex']].mean().round()\n"
     ]
    },
    {
     "data": {
      "text/plain": [
       "age    39.0\n",
       "dtype: float64"
      ]
     },
     "execution_count": 45,
     "metadata": {},
     "output_type": "execute_result"
    }
   ],
   "source": [
    "#loc kavramı filtreleme gibi düşünebilirsiniz\n",
    "male_avg = df.loc[(df['age']) & (df['sex']== 'Male'), ['age','sex']].mean().round()\n",
    "male_avg"
   ]
  },
  {
   "cell_type": "code",
   "execution_count": 47,
   "id": "fd014aff-b073-4aad-a84f-c2a50120ba3c",
   "metadata": {},
   "outputs": [
    {
     "name": "stderr",
     "output_type": "stream",
     "text": [
      "C:\\Users\\Administrator.KKONTROL03\\AppData\\Local\\Temp\\ipykernel_5100\\2906884021.py:1: FutureWarning: Dropping of nuisance columns in DataFrame reductions (with 'numeric_only=None') is deprecated; in a future version this will raise TypeError.  Select only valid columns before calling the reduction.\n",
      "  female_avg = df.loc[(df['age']) & (df['sex'] == 'Female'), ['age','sex']].mean().round()\n"
     ]
    },
    {
     "data": {
      "text/plain": [
       "age    37.0\n",
       "dtype: float64"
      ]
     },
     "execution_count": 47,
     "metadata": {},
     "output_type": "execute_result"
    }
   ],
   "source": [
    "female_avg = df.loc[(df['age']) & (df['sex'] == 'Female'), ['age','sex']].mean().round()\n",
    "female_avg"
   ]
  },
  {
   "cell_type": "code",
   "execution_count": 49,
   "id": "7be04319-6036-4bb9-8ce4-9143e60edd57",
   "metadata": {},
   "outputs": [],
   "source": [
    "#Case 3\n",
    "#Lisans derecesine sahip olanlar ?"
   ]
  },
  {
   "cell_type": "code",
   "execution_count": 57,
   "id": "b31ec102-b80c-4acf-97fe-0462fd02431c",
   "metadata": {},
   "outputs": [
    {
     "data": {
      "text/plain": [
       "16.4"
      ]
     },
     "execution_count": 57,
     "metadata": {},
     "output_type": "execute_result"
    }
   ],
   "source": [
    "per_bachelor = df.loc[df['education'] == 'Bachelors', 'education'].shape[0] / df.shape[0] * 100\n",
    "per_bachelor = round(per_bachelor, 1) #yuvarlama değeri\n",
    "per_bachelor"
   ]
  },
  {
   "cell_type": "code",
   "execution_count": 60,
   "id": "3ae55c19-99c5-4bd6-9db9-dde7155688e6",
   "metadata": {},
   "outputs": [],
   "source": [
    "higher_education = df[df['education'].isin(['Bachelors', 'Masters', 'Doctorate'])]\n",
    "lower_education = df[~df['education'].isin(['Bachelors', 'Masters', 'Doctorate'])]\n",
    "\n",
    "high_edu_per = higher_education[higher_education['salary'] == '>50K']['salary'].shape[0] / higher_education.shape[0] * 100\n",
    "low_edu_per = lower_education[lower_education['salary'] == '>50K']['salary'].shape[0] / lower_education.shape[0] * 100"
   ]
  },
  {
   "cell_type": "code",
   "execution_count": 61,
   "id": "3fc23aaa-d3f6-4633-948a-71e37a925d69",
   "metadata": {},
   "outputs": [
    {
     "name": "stdout",
     "output_type": "stream",
     "text": [
      "46.535843011613935\n"
     ]
    }
   ],
   "source": [
    "#Daha çok kazanan ve ileri eğitim almış insanlar\n",
    "print(high_edu_per)"
   ]
  },
  {
   "cell_type": "code",
   "execution_count": 65,
   "id": "0b516b35-8421-4c14-ab38-4894fafd823c",
   "metadata": {},
   "outputs": [
    {
     "name": "stdout",
     "output_type": "stream",
     "text": [
      "17.3713601914639\n"
     ]
    }
   ],
   "source": [
    "#Case 5\n",
    "#Gelişmiş eğitimi olmayan insanların yüzde kaçı 50.000'den fazla kazanıyor?\n",
    "print(low_edu_per)"
   ]
  },
  {
   "cell_type": "code",
   "execution_count": 68,
   "id": "d03d28e0-1f74-455b-8387-9bb7442d1cf0",
   "metadata": {},
   "outputs": [],
   "source": [
    "#Case 6\n",
    "#Bir kişinin haftada çalıştığı minimum saat sayısı nedir?"
   ]
  },
  {
   "cell_type": "code",
   "execution_count": 70,
   "id": "1f1d0aed-8fda-4eef-8b64-d3abb7a77c3f",
   "metadata": {},
   "outputs": [
    {
     "name": "stdout",
     "output_type": "stream",
     "text": [
      "1\n"
     ]
    }
   ],
   "source": [
    "min_work_hours = df['hours-per-week'].min()\n",
    "print(min_work_hours)\n"
   ]
  },
  {
   "cell_type": "code",
   "execution_count": 71,
   "id": "18856874-c412-4157-a644-6b6671e2ed3d",
   "metadata": {},
   "outputs": [],
   "source": [
    "#Case 7 \n",
    "#Haftada asgari saat çalışan insanların yüzde kaçının maaşı 50 binden fazla?"
   ]
  },
  {
   "cell_type": "code",
   "execution_count": 72,
   "id": "92d8ae7c-0993-4bf6-a30e-de6627b30ff5",
   "metadata": {},
   "outputs": [],
   "source": [
    "val1 =(df['hours-per-week'] == 1) & (df['salary'] == '>50K')\n",
    "val2 = df['hours-per-week'] == 1\n",
    "min_work_more_money = round((df[val1].shape[0] / df[val2].shape[0]) * 100, 1) #rounding off value"
   ]
  },
  {
   "cell_type": "code",
   "execution_count": 74,
   "id": "01cb721e-2457-49c4-a253-7c4febe97684",
   "metadata": {},
   "outputs": [
    {
     "name": "stdout",
     "output_type": "stream",
     "text": [
      "10.0\n"
     ]
    }
   ],
   "source": [
    "print(min_work_more_money)\n"
   ]
  }
 ],
 "metadata": {
  "kernelspec": {
   "display_name": "Python 3 (ipykernel)",
   "language": "python",
   "name": "python3"
  },
  "language_info": {
   "codemirror_mode": {
    "name": "ipython",
    "version": 3
   },
   "file_extension": ".py",
   "mimetype": "text/x-python",
   "name": "python",
   "nbconvert_exporter": "python",
   "pygments_lexer": "ipython3",
   "version": "3.8.0"
  }
 },
 "nbformat": 4,
 "nbformat_minor": 5
}
